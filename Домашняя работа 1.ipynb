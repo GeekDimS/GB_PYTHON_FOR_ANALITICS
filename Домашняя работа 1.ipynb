{
 "cells": [
  {
   "cell_type": "markdown",
   "id": "dccfa0dd",
   "metadata": {},
   "source": [
    "## Условие 1:\n",
    "Оформляйте ноутбук, используя эти советы:\n",
    "Номер задачи - заголовок 2\n",
    "Номер подзадачи - заголовок 3\n",
    "Предоставленные наборы данных оформляйте, как код\n",
    "Рекомендации для преподавателей по оценке задания:\n",
    "Смотреть, чтобы студент красиво оформлял ноутбук, использовал ячейки с текстом, указывал номера заданий"
   ]
  },
  {
   "cell_type": "markdown",
   "id": "ac9a457e",
   "metadata": {},
   "source": [
    "## Условие 2:\n",
    "На складе лежат разные фрукты в разном количестве.\n",
    "Нужно написать функцию, которая на вход принимает любое количество названий фруктов и их количество, а возвращает общее количество фруктов на складе"
   ]
  },
  {
   "cell_type": "code",
   "execution_count": 1,
   "id": "d87c92c2",
   "metadata": {},
   "outputs": [
    {
     "data": {
      "text/plain": [
       "68"
      ]
     },
     "execution_count": 1,
     "metadata": {},
     "output_type": "execute_result"
    }
   ],
   "source": [
    "def SummFruits(**fruits)->int:\n",
    "    res = 0\n",
    "    for v in fruits.values():\n",
    "        res += v\n",
    "    return res\n",
    "\n",
    "SummFruits(guava = 55, banane = 2, lime = 11)"
   ]
  },
  {
   "cell_type": "markdown",
   "id": "9cfab590",
   "metadata": {},
   "source": [
    "## Условие 3:\n",
    "Дан список с затратами на рекламу. Но в данных есть ошибки, некоторые затраты имеют отрицательную величину. Удалите такие значения из списка и посчитайте суммарные затраты"
   ]
  },
  {
   "cell_type": "code",
   "execution_count": 2,
   "id": "69512a9f",
   "metadata": {},
   "outputs": [],
   "source": [
    "listWastes = [100, 125, -90, 345, 655, -1, 0, 200]"
   ]
  },
  {
   "cell_type": "markdown",
   "id": "02a45a3e",
   "metadata": {},
   "source": [
    "Используйте list comprehensions"
   ]
  },
  {
   "cell_type": "code",
   "execution_count": 3,
   "id": "248d42f9",
   "metadata": {},
   "outputs": [
    {
     "data": {
      "text/plain": [
       "1425"
      ]
     },
     "execution_count": 3,
     "metadata": {},
     "output_type": "execute_result"
    }
   ],
   "source": [
    "#listPositive = [i for i in listWastes if i >= 0]\n",
    "res = sum([i for i in listWastes if i >= 0])\n",
    "res"
   ]
  },
  {
   "cell_type": "markdown",
   "id": "226d7f8a",
   "metadata": {},
   "source": [
    "## Условие 4:\n",
    "Даны два списка.\n",
    "Дата покупки:"
   ]
  },
  {
   "cell_type": "code",
   "execution_count": 4,
   "id": "13c9032a",
   "metadata": {},
   "outputs": [],
   "source": [
    "list_date = ['2021-09-14', '2021-12-15', '2021-09-08', '2021-12-05', '2021-10-09', '2021-09-30',\n",
    "             '2021-12-22', '2021-11-29', '2021-12-24', '2021-11-26', '2021-10-27', '2021-12-18',\n",
    "             '2021-11-09', '2021-11-23', '2021-09-27', '2021-10-02', '2021-12-27', '2021-09-20',\n",
    "             '2021-12-13', '2021-11-01', '2021-11-09', '2021-12-06', '2021-12-08', '2021-10-09',\n",
    "             '2021-10-31', '2021-09-30', '2021-11-09', '2021-12-13', '2021-10-26', '2021-12-09']\n"
   ]
  },
  {
   "cell_type": "markdown",
   "id": "7ce334b5",
   "metadata": {},
   "source": [
    "Суммы покупок по датам:"
   ]
  },
  {
   "cell_type": "code",
   "execution_count": 5,
   "id": "811846f1",
   "metadata": {},
   "outputs": [],
   "source": [
    "list_purchases = [1270, 8413, 9028, 3703, 5739, 4095, 295, 4944, 5723, 3701, 4471, 651, 7037, 4274, 6275,\n",
    "                  4988, 6930, 2971, 6592, 2004, 2822, 519, 3406, 2732, 5015, 2008, 316, 6333, 5700, 2887]"
   ]
  },
  {
   "cell_type": "markdown",
   "id": "616a65ac",
   "metadata": {},
   "source": [
    "### 4.1 Найдите, какая выручка у компании в ноябре.\n",
    "Используйте list comprehensions"
   ]
  },
  {
   "cell_type": "code",
   "execution_count": 6,
   "id": "7c7c414e",
   "metadata": {},
   "outputs": [],
   "source": [
    "#res = sum([i in list_purchases if list_date])"
   ]
  },
  {
   "cell_type": "code",
   "execution_count": 7,
   "id": "7f898355",
   "metadata": {},
   "outputs": [
    {
     "name": "stdout",
     "output_type": "stream",
     "text": [
      "4944\n",
      "8645\n",
      "15682\n",
      "19956\n",
      "21960\n",
      "24782\n",
      "25098\n"
     ]
    },
    {
     "data": {
      "text/plain": [
       "25098"
      ]
     },
     "execution_count": 7,
     "metadata": {},
     "output_type": "execute_result"
    }
   ],
   "source": [
    "res=0\n",
    "for i,val in enumerate(list_purchases):\n",
    "    if list_date[i][5:7] == '11':       \n",
    "        res += val\n",
    "        print(res)\n",
    "res"
   ]
  },
  {
   "cell_type": "code",
   "execution_count": 8,
   "id": "b6a96195",
   "metadata": {},
   "outputs": [
    {
     "data": {
      "text/plain": [
       "25098"
      ]
     },
     "execution_count": 8,
     "metadata": {},
     "output_type": "execute_result"
    }
   ],
   "source": [
    "sum([val for i,val in enumerate(list_purchases) if list_date[i][5:7] == '11'])"
   ]
  },
  {
   "cell_type": "markdown",
   "id": "01592945",
   "metadata": {},
   "source": [
    "### 4.2 Найдите выручку компании в зависимости от месяца\n",
    "Для этого напишите функцию, которая на вход принимает список с датами и список с выручкой, а на выходе словарь, где ключи - это месяцы, а значения - это выручка.\n",
    "Используйте аннотирование типов."
   ]
  },
  {
   "cell_type": "code",
   "execution_count": 9,
   "id": "3740c90a",
   "metadata": {},
   "outputs": [
    {
     "data": {
      "text/plain": [
       "{1: 0,\n",
       " 2: 0,\n",
       " 3: 0,\n",
       " 4: 0,\n",
       " 5: 0,\n",
       " 6: 0,\n",
       " 7: 0,\n",
       " 8: 0,\n",
       " 9: 25647,\n",
       " 10: 28645,\n",
       " 11: 25098,\n",
       " 12: 45452}"
      ]
     },
     "execution_count": 9,
     "metadata": {},
     "output_type": "execute_result"
    }
   ],
   "source": [
    "def sumRevenue(listD : list, listP: list)->dict:\n",
    "    resDict = {i:0 for i in range(1,13)}\n",
    "    for i in range(0,len(listP)):\n",
    "        resDict[int(listD[i][5:7])] += listP[i]\n",
    "    return resDict\n",
    "sumRevenue(list_date,list_purchases)\n"
   ]
  },
  {
   "cell_type": "markdown",
   "id": "3ee1b4cf",
   "metadata": {},
   "source": [
    "P.S.: Не удаляю \"лишнее\" для себя"
   ]
  },
  {
   "cell_type": "code",
   "execution_count": null,
   "id": "18d9d570",
   "metadata": {},
   "outputs": [],
   "source": []
  }
 ],
 "metadata": {
  "kernelspec": {
   "display_name": "Python 3 (ipykernel)",
   "language": "python",
   "name": "python3"
  },
  "language_info": {
   "codemirror_mode": {
    "name": "ipython",
    "version": 3
   },
   "file_extension": ".py",
   "mimetype": "text/x-python",
   "name": "python",
   "nbconvert_exporter": "python",
   "pygments_lexer": "ipython3",
   "version": "3.9.12"
  }
 },
 "nbformat": 4,
 "nbformat_minor": 5
}
